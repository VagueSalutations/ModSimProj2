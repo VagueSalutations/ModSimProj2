{
 "cells": [
  {
   "cell_type": "code",
   "execution_count": 134,
   "metadata": {
    "collapsed": true
   },
   "outputs": [],
   "source": [
    "%matplotlib inline\n",
    "import math\n",
    "from modsim import *"
   ]
  },
  {
   "cell_type": "markdown",
   "metadata": {},
   "source": [
    "For this model we're assuming that our mass begins in a geostationary orbit (perhaps a docking orbit for a cargo mission) and will be going to the moon. <br>\n",
    "<br>\n",
    "r0 = 42,164 km <br>\n",
    "rf = 384,400 km <br>\n",
    "<br>\n",
    "To figure out what the necessary delta-v is we look at a Hohmann transfer.  Hohmann transfers are the most efficient means of switching circular orbits and involve two burns that sum to a net delta-v.  These are well-known, used, and documented calculations and explanations can be found readily online.  For this lab I used an online calculator found at the link below: <br>\n",
    "<br>\n",
    "https://instacalc.com/42836 <br>\n",
    "<br>\n",
    "According to this calculator the delta-v for the first maneuver is 956.61 m/s and for the second maneuver is 535.22 m/s, resulting in a net delta-v of 1491.83 m/s.  For this model, <b>1492 m/s is the target delta-v.</b>"
   ]
  },
  {
   "cell_type": "code",
   "execution_count": 125,
   "metadata": {
    "collapsed": true
   },
   "outputs": [],
   "source": [
    "r0 = 42164000    # in meters\n",
    "rf = 384400000   # in meters\n",
    "dv = 1492        # in meters/sec"
   ]
  },
  {
   "cell_type": "markdown",
   "metadata": {},
   "source": [
    "Let's create a rocket object"
   ]
  },
  {
   "cell_type": "code",
   "execution_count": 126,
   "metadata": {
    "collapsed": true
   },
   "outputs": [],
   "source": [
    "vExhaust = 0     # Engine exhaust velocity\n",
    "mDry = 1000      # Dry mass of the spacecraft (only rocket + payload)\n",
    "mFuel = 0    # Mass of spacecraft fuel\n",
    "\n",
    "rocket = System(vExhaust=vExhaust, mDry=mDry, mFuel=mFuel)"
   ]
  },
  {
   "cell_type": "markdown",
   "metadata": {},
   "source": [
    "Let's initialize the exhaust velocities for a couple kinds of engines that our spacecraft could have. <br>\n",
    "https://en.wikipedia.org/wiki/Specific_impulse#Examples <br>\n",
    "https://en.wikipedia.org/wiki/Spacecraft_propulsion#Table_of_methods"
   ]
  },
  {
   "cell_type": "code",
   "execution_count": 142,
   "metadata": {
    "collapsed": true
   },
   "outputs": [],
   "source": [
    "SRB = 2500     # Space shuttle solid rocket booster\n",
    "LH2 = 4400     # Liquid hydrogen rocket\n",
    "Arc = 16000    # Arcjet rocket\n",
    "PPT = 20000    # Pulsed plasma thruster\n",
    "Ion = 29000    # Electrostatic ion thruster\n",
    "Hall = 50000   # Electric Hall-effect thruster\n",
    "Sail = 299792  # Solar sail (effectively no fuel)\n",
    "\n",
    "engines = [SRB, LH2, Arc, PPT, Ion, Hall, Sail]    # Array of engines\n",
    "initGuesses = [800, 400, 90, 70, 50, 20, 0]        # Array of initial guesses for each engine\n",
    "names = [\"SRB\", \"LH2\", \"Arc\", \"PPT\", \"Ion\", \"Hall\", \"Sail\"]    # Array of engines"
   ]
  },
  {
   "cell_type": "markdown",
   "metadata": {},
   "source": [
    "The below function solves for delta-v via a straight rocket equation calculation determined by a ratio of dry to wet masses given an exhaust velocity."
   ]
  },
  {
   "cell_type": "code",
   "execution_count": 128,
   "metadata": {
    "collapsed": true
   },
   "outputs": [],
   "source": [
    "def solveV(r):\n",
    "    \n",
    "    # Calculate the change in velocity via the base rocket equation\n",
    "    dv = r.vExhaust * math.log((r.mDry + r.mFuel) / r.mDry)\n",
    "    \n",
    "    return dv"
   ]
  },
  {
   "cell_type": "markdown",
   "metadata": {},
   "source": [
    "The below function takes in a value for the mass of the rocket's fuel, solves for the dv achieved by that mass of fuel, and returns the difference between the achieved delta-v and the desired delta-v."
   ]
  },
  {
   "cell_type": "code",
   "execution_count": 129,
   "metadata": {
    "collapsed": true
   },
   "outputs": [],
   "source": [
    "def error_func(mFuel):\n",
    "    r = rocket\n",
    "    r.mFuel = mFuel\n",
    "    vf = solveV(r)\n",
    "\n",
    "    return vf - dv    # Where dv is a reference to the target velocity"
   ]
  },
  {
   "cell_type": "markdown",
   "metadata": {},
   "source": [
    "Let's pick an engine for the rocket and see what we can do with fsolve:"
   ]
  },
  {
   "cell_type": "code",
   "execution_count": 130,
   "metadata": {},
   "outputs": [
    {
     "data": {
      "text/plain": [
       "404.67308281054034"
      ]
     },
     "execution_count": 130,
     "metadata": {},
     "output_type": "execute_result"
    }
   ],
   "source": [
    "rocket.vExhaust = LH2\n",
    "\n",
    "try:\n",
    "    solution = fsolve(error_func, 400, xtol=1e-3)\n",
    "except:\n",
    "    print(\"Math range error\")\n",
    "    \n",
    "solution[0]\n"
   ]
  },
  {
   "cell_type": "markdown",
   "metadata": {},
   "source": [
    "By direct back-solving, the entire initial mass is 1404.7121, which means the fuel mass is 404.7121 so we're pretty close.<br>\n",
    "http://www.quantumg.net/rocketeq.html\n",
    "<br><br>\n",
    "Cool, now let's try sweeping the engines:"
   ]
  },
  {
   "cell_type": "code",
   "execution_count": 165,
   "metadata": {},
   "outputs": [
    {
     "name": "stdout",
     "output_type": "stream",
     "text": [
      "Engine 0 requires 1633.31246448 kg of fuel\n",
      "Engine 1 requires 807.671756814 kg of fuel\n",
      "Engine 2 requires 195.432730893 kg of fuel\n",
      "Engine 3 requires 155.127896679 kg of fuel\n",
      "Engine 4 requires 106.441044216 kg of fuel\n",
      "Engine 5 requires 61.330476861 kg of fuel\n",
      "Engine 6 requires 10.2003835983 kg of fuel\n"
     ]
    },
    {
     "name": "stderr",
     "output_type": "stream",
     "text": [
      "C:\\ProgramData\\Miniconda3\\lib\\site-packages\\scipy\\optimize\\minpack.py:161: RuntimeWarning: The iteration is not making good progress, as measured by the \n",
      "  improvement from the last ten iterations.\n",
      "  warnings.warn(msg, RuntimeWarning)\n"
     ]
    }
   ],
   "source": [
    "for i in range(0, len(engines)):\n",
    "\n",
    "    rocket.vExhaust = engines[i]\n",
    "    initGuess = initGuesses[i]\n",
    "\n",
    "    try:\n",
    "        solution = fsolve(error_func, initGuess, xtol=1e-3)\n",
    "    except:\n",
    "        print(\"Math range error at index \" + str(i))\n",
    "        \n",
    "    print(\"Engine \" + str(i) + \" requires \" + str(solution[0]) + \" kg of fuel\")"
   ]
  },
  {
   "cell_type": "markdown",
   "metadata": {},
   "source": [
    "*** Turns out we get a lot of math errors because of fsolve *** <br><br>\n",
    "But otherwise, great, glad it works! <br><br>Next we need to pick a single thruster and vary the dry mass of our spacecraft."
   ]
  },
  {
   "cell_type": "code",
   "execution_count": 212,
   "metadata": {},
   "outputs": [
    {
     "name": "stdout",
     "output_type": "stream",
     "text": [
      "1600    149125.447190\n",
      "1800    167766.828555\n",
      "2000    186406.878264\n",
      "2200    205047.373755\n",
      "2400    223688.207178\n",
      "2600    242328.844970\n",
      "2800    260969.966391\n",
      "3000    279609.615366\n",
      "3200    298250.098771\n",
      "3400    316890.973103\n",
      "3600    335532.146738\n",
      "3800    354173.062631\n",
      "4000    372813.455126\n",
      "4200    391454.209354\n",
      "4400    410094.531645\n",
      "4600    428735.100632\n",
      "4800    447375.752987\n",
      "5000    466017.104038\n",
      "5200    484657.105796\n",
      "5400    503298.125935\n",
      "5600    521938.290488\n",
      "5800    540579.179394\n",
      "6000    559219.952238\n",
      "dtype: float64\n"
     ]
    }
   ],
   "source": [
    "rocket.vExhaust = LH2\n",
    "initGuess = 100             #initGuesses[engines.index(LH2)]\n",
    "\n",
    "sweep = SweepSeries()\n",
    "\n",
    "for mDry in linrange(1600, 6000, 200):   # Let's sweep 500-2000kg in increments of 100kg\n",
    "    rocket.mDry = mDry \n",
    "    try:\n",
    "        solution = fsolve(error_func, initGuess, xtol=1e-3)\n",
    "    except:\n",
    "        print(\"Math range error at index \" + str(i))\n",
    "        \n",
    "    sweep[mDry] = solution[0]\n",
    "    \n",
    "print(sweep)"
   ]
  },
  {
   "cell_type": "markdown",
   "metadata": {},
   "source": [
    "Now can we plot the results?"
   ]
  },
  {
   "cell_type": "code",
   "execution_count": 213,
   "metadata": {},
   "outputs": [
    {
     "data": {
      "image/png": "[encoded data removed]",
      "text/plain": [
       "<matplotlib.figure.Figure at 0x236b7b565c0>"
      ]
     },
     "metadata": {},
     "output_type": "display_data"
    }
   ],
   "source": [
    "plot(sweep, color='purple')\n",
    "decorate(title='Mass Ratio for Liquid Rocket',\n",
    "         xlabel='Mass of Rocket (kg)',\n",
    "         ylabel='Mass of Fuel (kg)',\n",
    "         legend=False)"
   ]
  },
  {
   "cell_type": "markdown",
   "metadata": {},
   "source": [
    "***  Hmm.  Let's think about if this is the right relationship or not  *** <br>\n",
    "Cool.  Turns out this is the right result and that's because we can solve the rocket equation for mFuel and that yields the equation <b>mDry(e^(dv/vExhaust)-1)</b> which is linear while dv and vExhaust are constant\n",
    "<br><br>\n",
    "Next let's sweep this range for every engine and see what happens"
   ]
  },
  {
   "cell_type": "code",
   "execution_count": 215,
   "metadata": {},
   "outputs": [
    {
     "data": {
      "text/html": [
       "<div>\n",
       "<style>\n",
       "    .dataframe thead tr:only-child th {\n",
       "        text-align: right;\n",
       "    }\n",
       "\n",
       "    .dataframe thead th {\n",
       "        text-align: left;\n",
       "    }\n",
       "\n",
       "    .dataframe tbody tr th {\n",
       "        vertical-align: top;\n",
       "    }\n",
       "</style>\n",
       "<table border=\"1\" class=\"dataframe\">\n",
       "  <thead>\n",
       "    <tr style=\"text-align: right;\">\n",
       "      <th></th>\n",
       "      <th>SRB</th>\n",
       "      <th>LH2</th>\n",
       "      <th>Arc</th>\n",
       "      <th>PPT</th>\n",
       "      <th>Ion</th>\n",
       "      <th>Hall</th>\n",
       "      <th>Sail</th>\n",
       "    </tr>\n",
       "  </thead>\n",
       "  <tbody>\n",
       "    <tr>\n",
       "      <th>1600</th>\n",
       "      <td>4.767893e+06</td>\n",
       "      <td>149123.927533</td>\n",
       "      <td>3985.461203</td>\n",
       "      <td>2749.466264</td>\n",
       "      <td>1589.588726</td>\n",
       "      <td>787.776042</td>\n",
       "      <td>110.755452</td>\n",
       "    </tr>\n",
       "    <tr>\n",
       "      <th>1800</th>\n",
       "      <td>5.363798e+06</td>\n",
       "      <td>167761.934663</td>\n",
       "      <td>4483.041050</td>\n",
       "      <td>3093.395679</td>\n",
       "      <td>1787.934720</td>\n",
       "      <td>885.769208</td>\n",
       "      <td>124.893798</td>\n",
       "    </tr>\n",
       "    <tr>\n",
       "      <th>2000</th>\n",
       "      <td>5.959604e+06</td>\n",
       "      <td>186396.574534</td>\n",
       "      <td>4980.897941</td>\n",
       "      <td>3437.339782</td>\n",
       "      <td>1986.436053</td>\n",
       "      <td>984.257114</td>\n",
       "      <td>138.005182</td>\n",
       "    </tr>\n",
       "    <tr>\n",
       "      <th>2200</th>\n",
       "      <td>6.555256e+06</td>\n",
       "      <td>205025.794966</td>\n",
       "      <td>5479.287212</td>\n",
       "      <td>3780.709753</td>\n",
       "      <td>2185.448353</td>\n",
       "      <td>1082.820951</td>\n",
       "      <td>152.138711</td>\n",
       "    </tr>\n",
       "    <tr>\n",
       "      <th>2400</th>\n",
       "      <td>7.151896e+06</td>\n",
       "      <td>223687.701737</td>\n",
       "      <td>5976.842168</td>\n",
       "      <td>4124.143471</td>\n",
       "      <td>2384.086354</td>\n",
       "      <td>1181.007982</td>\n",
       "      <td>165.218718</td>\n",
       "    </tr>\n",
       "    <tr>\n",
       "      <th>2600</th>\n",
       "      <td>7.747883e+06</td>\n",
       "      <td>242328.452433</td>\n",
       "      <td>6475.159853</td>\n",
       "      <td>4468.115722</td>\n",
       "      <td>2581.715584</td>\n",
       "      <td>1279.159526</td>\n",
       "      <td>179.636631</td>\n",
       "    </tr>\n",
       "    <tr>\n",
       "      <th>2800</th>\n",
       "      <td>8.343865e+06</td>\n",
       "      <td>260969.058193</td>\n",
       "      <td>6973.608559</td>\n",
       "      <td>4812.011625</td>\n",
       "      <td>2780.642882</td>\n",
       "      <td>1377.735866</td>\n",
       "      <td>193.287549</td>\n",
       "    </tr>\n",
       "    <tr>\n",
       "      <th>3000</th>\n",
       "      <td>8.939834e+06</td>\n",
       "      <td>279609.182237</td>\n",
       "      <td>7470.633329</td>\n",
       "      <td>5154.825285</td>\n",
       "      <td>2979.733789</td>\n",
       "      <td>1475.771018</td>\n",
       "      <td>207.523550</td>\n",
       "    </tr>\n",
       "    <tr>\n",
       "      <th>3200</th>\n",
       "      <td>9.535785e+06</td>\n",
       "      <td>298248.541337</td>\n",
       "      <td>7968.815311</td>\n",
       "      <td>5498.525530</td>\n",
       "      <td>3178.534215</td>\n",
       "      <td>1574.442313</td>\n",
       "      <td>221.749812</td>\n",
       "    </tr>\n",
       "    <tr>\n",
       "      <th>3400</th>\n",
       "      <td>1.013171e+07</td>\n",
       "      <td>316886.800254</td>\n",
       "      <td>8467.282199</td>\n",
       "      <td>5842.891782</td>\n",
       "      <td>3376.017277</td>\n",
       "      <td>1672.199726</td>\n",
       "      <td>235.643297</td>\n",
       "    </tr>\n",
       "    <tr>\n",
       "      <th>3600</th>\n",
       "      <td>1.072760e+07</td>\n",
       "      <td>335524.807426</td>\n",
       "      <td>8965.754061</td>\n",
       "      <td>6186.267877</td>\n",
       "      <td>3575.291967</td>\n",
       "      <td>1771.122709</td>\n",
       "      <td>248.598147</td>\n",
       "    </tr>\n",
       "    <tr>\n",
       "      <th>3800</th>\n",
       "      <td>1.132344e+07</td>\n",
       "      <td>354161.169834</td>\n",
       "      <td>9464.155799</td>\n",
       "      <td>6530.215917</td>\n",
       "      <td>3774.426641</td>\n",
       "      <td>1869.918784</td>\n",
       "      <td>262.305880</td>\n",
       "    </tr>\n",
       "    <tr>\n",
       "      <th>4000</th>\n",
       "      <td>1.191921e+07</td>\n",
       "      <td>372794.948289</td>\n",
       "      <td>9962.374381</td>\n",
       "      <td>6872.668691</td>\n",
       "      <td>3972.807190</td>\n",
       "      <td>1967.916276</td>\n",
       "      <td>276.493779</td>\n",
       "    </tr>\n",
       "    <tr>\n",
       "      <th>4200</th>\n",
       "      <td>1.251491e+07</td>\n",
       "      <td>391427.223910</td>\n",
       "      <td>10459.645993</td>\n",
       "      <td>7216.047823</td>\n",
       "      <td>4170.986124</td>\n",
       "      <td>2066.263069</td>\n",
       "      <td>290.677804</td>\n",
       "    </tr>\n",
       "    <tr>\n",
       "      <th>4400</th>\n",
       "      <td>1.311052e+07</td>\n",
       "      <td>410056.513460</td>\n",
       "      <td>10957.846698</td>\n",
       "      <td>7560.664683</td>\n",
       "      <td>4369.446951</td>\n",
       "      <td>2164.993180</td>\n",
       "      <td>304.451350</td>\n",
       "    </tr>\n",
       "    <tr>\n",
       "      <th>4600</th>\n",
       "      <td>1.370780e+07</td>\n",
       "      <td>428683.146193</td>\n",
       "      <td>11455.876529</td>\n",
       "      <td>7904.445450</td>\n",
       "      <td>4568.128464</td>\n",
       "      <td>2263.146594</td>\n",
       "      <td>317.434997</td>\n",
       "    </tr>\n",
       "    <tr>\n",
       "      <th>4800</th>\n",
       "      <td>1.430379e+07</td>\n",
       "      <td>447375.827723</td>\n",
       "      <td>11954.442205</td>\n",
       "      <td>8248.313799</td>\n",
       "      <td>4767.107219</td>\n",
       "      <td>2360.808440</td>\n",
       "      <td>331.162781</td>\n",
       "    </tr>\n",
       "    <tr>\n",
       "      <th>5000</th>\n",
       "      <td>1.489978e+07</td>\n",
       "      <td>466015.884540</td>\n",
       "      <td>12452.272565</td>\n",
       "      <td>8592.269333</td>\n",
       "      <td>4965.459987</td>\n",
       "      <td>2459.052117</td>\n",
       "      <td>345.328433</td>\n",
       "    </tr>\n",
       "    <tr>\n",
       "      <th>5200</th>\n",
       "      <td>1.549577e+07</td>\n",
       "      <td>484657.119783</td>\n",
       "      <td>12949.805572</td>\n",
       "      <td>8935.553101</td>\n",
       "      <td>5163.726253</td>\n",
       "      <td>2557.936787</td>\n",
       "      <td>359.368340</td>\n",
       "    </tr>\n",
       "    <tr>\n",
       "      <th>5400</th>\n",
       "      <td>1.609175e+07</td>\n",
       "      <td>503297.535462</td>\n",
       "      <td>13447.884619</td>\n",
       "      <td>9279.695931</td>\n",
       "      <td>5362.181247</td>\n",
       "      <td>2656.458014</td>\n",
       "      <td>372.100603</td>\n",
       "    </tr>\n",
       "    <tr>\n",
       "      <th>5600</th>\n",
       "      <td>1.668773e+07</td>\n",
       "      <td>521937.319687</td>\n",
       "      <td>13945.734648</td>\n",
       "      <td>9622.438811</td>\n",
       "      <td>5560.916334</td>\n",
       "      <td>2754.638795</td>\n",
       "      <td>386.968231</td>\n",
       "    </tr>\n",
       "    <tr>\n",
       "      <th>5800</th>\n",
       "      <td>1.728370e+07</td>\n",
       "      <td>540577.352677</td>\n",
       "      <td>14443.844315</td>\n",
       "      <td>9966.929395</td>\n",
       "      <td>5759.016139</td>\n",
       "      <td>2853.103529</td>\n",
       "      <td>400.245631</td>\n",
       "    </tr>\n",
       "    <tr>\n",
       "      <th>6000</th>\n",
       "      <td>1.787967e+07</td>\n",
       "      <td>559217.490955</td>\n",
       "      <td>14941.824541</td>\n",
       "      <td>10310.206695</td>\n",
       "      <td>5958.822622</td>\n",
       "      <td>2951.147378</td>\n",
       "      <td>414.544909</td>\n",
       "    </tr>\n",
       "  </tbody>\n",
       "</table>\n",
       "</div>"
      ],
      "text/plain": [
       "               SRB            LH2           Arc           PPT          Ion  \\\n",
       "1600  4.767893e+06  149123.927533   3985.461203   2749.466264  1589.588726   \n",
       "1800  5.363798e+06  167761.934663   4483.041050   3093.395679  1787.934720   \n",
       "2000  5.959604e+06  186396.574534   4980.897941   3437.339782  1986.436053   \n",
       "2200  6.555256e+06  205025.794966   5479.287212   3780.709753  2185.448353   \n",
       "2400  7.151896e+06  223687.701737   5976.842168   4124.143471  2384.086354   \n",
       "2600  7.747883e+06  242328.452433   6475.159853   4468.115722  2581.715584   \n",
       "2800  8.343865e+06  260969.058193   6973.608559   4812.011625  2780.642882   \n",
       "3000  8.939834e+06  279609.182237   7470.633329   5154.825285  2979.733789   \n",
       "3200  9.535785e+06  298248.541337   7968.815311   5498.525530  3178.534215   \n",
       "3400  1.013171e+07  316886.800254   8467.282199   5842.891782  3376.017277   \n",
       "3600  1.072760e+07  335524.807426   8965.754061   6186.267877  3575.291967   \n",
       "3800  1.132344e+07  354161.169834   9464.155799   6530.215917  3774.426641   \n",
       "4000  1.191921e+07  372794.948289   9962.374381   6872.668691  3972.807190   \n",
       "4200  1.251491e+07  391427.223910  10459.645993   7216.047823  4170.986124   \n",
       "4400  1.311052e+07  410056.513460  10957.846698   7560.664683  4369.446951   \n",
       "4600  1.370780e+07  428683.146193  11455.876529   7904.445450  4568.128464   \n",
       "4800  1.430379e+07  447375.827723  11954.442205   8248.313799  4767.107219   \n",
       "5000  1.489978e+07  466015.884540  12452.272565   8592.269333  4965.459987   \n",
       "5200  1.549577e+07  484657.119783  12949.805572   8935.553101  5163.726253   \n",
       "5400  1.609175e+07  503297.535462  13447.884619   9279.695931  5362.181247   \n",
       "5600  1.668773e+07  521937.319687  13945.734648   9622.438811  5560.916334   \n",
       "5800  1.728370e+07  540577.352677  14443.844315   9966.929395  5759.016139   \n",
       "6000  1.787967e+07  559217.490955  14941.824541  10310.206695  5958.822622   \n",
       "\n",
       "             Hall        Sail  \n",
       "1600   787.776042  110.755452  \n",
       "1800   885.769208  124.893798  \n",
       "2000   984.257114  138.005182  \n",
       "2200  1082.820951  152.138711  \n",
       "2400  1181.007982  165.218718  \n",
       "2600  1279.159526  179.636631  \n",
       "2800  1377.735866  193.287549  \n",
       "3000  1475.771018  207.523550  \n",
       "3200  1574.442313  221.749812  \n",
       "3400  1672.199726  235.643297  \n",
       "3600  1771.122709  248.598147  \n",
       "3800  1869.918784  262.305880  \n",
       "4000  1967.916276  276.493779  \n",
       "4200  2066.263069  290.677804  \n",
       "4400  2164.993180  304.451350  \n",
       "4600  2263.146594  317.434997  \n",
       "4800  2360.808440  331.162781  \n",
       "5000  2459.052117  345.328433  \n",
       "5200  2557.936787  359.368340  \n",
       "5400  2656.458014  372.100603  \n",
       "5600  2754.638795  386.968231  \n",
       "5800  2853.103529  400.245631  \n",
       "6000  2951.147378  414.544909  "
      ]
     },
     "execution_count": 215,
     "metadata": {},
     "output_type": "execute_result"
    }
   ],
   "source": [
    "frame = SweepFrame()\n",
    "sweep = SweepSeries()\n",
    "\n",
    "for i in range(0, len(engines)):\n",
    "\n",
    "    rocket.vExhaust = engines[i]\n",
    "    initGuess = initGuesses[i] * 0.1\n",
    "\n",
    "    for mDry in linrange(1600, 6000, 200):   # Let's sweep 500-2000kg in increments of 100kg\n",
    "        rocket.mDry = mDry \n",
    "        try:\n",
    "            solution = fsolve(error_func, initGuess, xtol=1e-2)\n",
    "        except:\n",
    "            print(\"Math range error at index \" + str(i))\n",
    "\n",
    "        sweep[mDry] = solution[0]\n",
    "    \n",
    "    frame[names[i]] = sweep\n",
    "        \n",
    "frame"
   ]
  },
  {
   "cell_type": "code",
   "execution_count": 238,
   "metadata": {},
   "outputs": [
    {
     "data": {
      "image/png": "[encoded data removed]",
      "text/plain": [
       "<matplotlib.figure.Figure at 0x236b9ac0240>"
      ]
     },
     "metadata": {},
     "output_type": "display_data"
    }
   ],
   "source": [
    "for i in range(2, len(engines)-1):\n",
    "    label = names[i]\n",
    "    plot(frame[label], label=label)\n",
    "\n",
    "decorate(title='Mass Ratio for Various Rockets',\n",
    "         xlabel='Mass of Rocket (kg)',\n",
    "         ylabel='Mass of Fuel (kg)',\n",
    "         legend=True)"
   ]
  },
  {
   "cell_type": "markdown",
   "metadata": {},
   "source": [
    "*** Okay, now it's really time to check if linear is the right relationship or not *** <br><br>\n",
    "But right now it's 2 in the morning and I'm done for the night (:"
   ]
  },
  {
   "cell_type": "markdown",
   "metadata": {},
   "source": [
    "Actually wait I just had a guess at how to graph the real relationship we want and I'm listening to \"Don't Stop Me Now\" by Queen so I'm invincible and ready to finish this thing"
   ]
  },
  {
   "cell_type": "code",
   "execution_count": 225,
   "metadata": {
    "scrolled": true
   },
   "outputs": [
    {
     "data": {
      "text/html": [
       "<div>\n",
       "<style>\n",
       "    .dataframe thead tr:only-child th {\n",
       "        text-align: right;\n",
       "    }\n",
       "\n",
       "    .dataframe thead th {\n",
       "        text-align: left;\n",
       "    }\n",
       "\n",
       "    .dataframe tbody tr th {\n",
       "        vertical-align: top;\n",
       "    }\n",
       "</style>\n",
       "<table border=\"1\" class=\"dataframe\">\n",
       "  <thead>\n",
       "    <tr style=\"text-align: right;\">\n",
       "      <th></th>\n",
       "      <th>SRB</th>\n",
       "      <th>LH2</th>\n",
       "      <th>Arc</th>\n",
       "      <th>PPT</th>\n",
       "      <th>Ion</th>\n",
       "      <th>Hall</th>\n",
       "      <th>Sail</th>\n",
       "    </tr>\n",
       "  </thead>\n",
       "  <tbody>\n",
       "    <tr>\n",
       "      <th>1600</th>\n",
       "      <td>4.769493e+06</td>\n",
       "      <td>150723.927533</td>\n",
       "      <td>5585.461203</td>\n",
       "      <td>4349.466264</td>\n",
       "      <td>3189.588726</td>\n",
       "      <td>2387.776042</td>\n",
       "      <td>1710.755452</td>\n",
       "    </tr>\n",
       "    <tr>\n",
       "      <th>1800</th>\n",
       "      <td>5.365598e+06</td>\n",
       "      <td>169561.934663</td>\n",
       "      <td>6283.041050</td>\n",
       "      <td>4893.395679</td>\n",
       "      <td>3587.934720</td>\n",
       "      <td>2685.769208</td>\n",
       "      <td>1924.893798</td>\n",
       "    </tr>\n",
       "    <tr>\n",
       "      <th>2000</th>\n",
       "      <td>5.961604e+06</td>\n",
       "      <td>188396.574534</td>\n",
       "      <td>6980.897941</td>\n",
       "      <td>5437.339782</td>\n",
       "      <td>3986.436053</td>\n",
       "      <td>2984.257114</td>\n",
       "      <td>2138.005182</td>\n",
       "    </tr>\n",
       "    <tr>\n",
       "      <th>2200</th>\n",
       "      <td>6.557456e+06</td>\n",
       "      <td>207225.794966</td>\n",
       "      <td>7679.287212</td>\n",
       "      <td>5980.709753</td>\n",
       "      <td>4385.448353</td>\n",
       "      <td>3282.820951</td>\n",
       "      <td>2352.138711</td>\n",
       "    </tr>\n",
       "    <tr>\n",
       "      <th>2400</th>\n",
       "      <td>7.154296e+06</td>\n",
       "      <td>226087.701737</td>\n",
       "      <td>8376.842168</td>\n",
       "      <td>6524.143471</td>\n",
       "      <td>4784.086354</td>\n",
       "      <td>3581.007982</td>\n",
       "      <td>2565.218718</td>\n",
       "    </tr>\n",
       "    <tr>\n",
       "      <th>2600</th>\n",
       "      <td>7.750483e+06</td>\n",
       "      <td>244928.452433</td>\n",
       "      <td>9075.159853</td>\n",
       "      <td>7068.115722</td>\n",
       "      <td>5181.715584</td>\n",
       "      <td>3879.159526</td>\n",
       "      <td>2779.636631</td>\n",
       "    </tr>\n",
       "    <tr>\n",
       "      <th>2800</th>\n",
       "      <td>8.346665e+06</td>\n",
       "      <td>263769.058193</td>\n",
       "      <td>9773.608559</td>\n",
       "      <td>7612.011625</td>\n",
       "      <td>5580.642882</td>\n",
       "      <td>4177.735866</td>\n",
       "      <td>2993.287549</td>\n",
       "    </tr>\n",
       "    <tr>\n",
       "      <th>3000</th>\n",
       "      <td>8.942834e+06</td>\n",
       "      <td>282609.182237</td>\n",
       "      <td>10470.633329</td>\n",
       "      <td>8154.825285</td>\n",
       "      <td>5979.733789</td>\n",
       "      <td>4475.771018</td>\n",
       "      <td>3207.523550</td>\n",
       "    </tr>\n",
       "    <tr>\n",
       "      <th>3200</th>\n",
       "      <td>9.538985e+06</td>\n",
       "      <td>301448.541337</td>\n",
       "      <td>11168.815311</td>\n",
       "      <td>8698.525530</td>\n",
       "      <td>6378.534215</td>\n",
       "      <td>4774.442313</td>\n",
       "      <td>3421.749812</td>\n",
       "    </tr>\n",
       "    <tr>\n",
       "      <th>3400</th>\n",
       "      <td>1.013511e+07</td>\n",
       "      <td>320286.800254</td>\n",
       "      <td>11867.282199</td>\n",
       "      <td>9242.891782</td>\n",
       "      <td>6776.017277</td>\n",
       "      <td>5072.199726</td>\n",
       "      <td>3635.643297</td>\n",
       "    </tr>\n",
       "    <tr>\n",
       "      <th>3600</th>\n",
       "      <td>1.073120e+07</td>\n",
       "      <td>339124.807426</td>\n",
       "      <td>12565.754061</td>\n",
       "      <td>9786.267877</td>\n",
       "      <td>7175.291967</td>\n",
       "      <td>5371.122709</td>\n",
       "      <td>3848.598147</td>\n",
       "    </tr>\n",
       "    <tr>\n",
       "      <th>3800</th>\n",
       "      <td>1.132724e+07</td>\n",
       "      <td>357961.169834</td>\n",
       "      <td>13264.155799</td>\n",
       "      <td>10330.215917</td>\n",
       "      <td>7574.426641</td>\n",
       "      <td>5669.918784</td>\n",
       "      <td>4062.305880</td>\n",
       "    </tr>\n",
       "    <tr>\n",
       "      <th>4000</th>\n",
       "      <td>1.192321e+07</td>\n",
       "      <td>376794.948289</td>\n",
       "      <td>13962.374381</td>\n",
       "      <td>10872.668691</td>\n",
       "      <td>7972.807190</td>\n",
       "      <td>5967.916276</td>\n",
       "      <td>4276.493779</td>\n",
       "    </tr>\n",
       "    <tr>\n",
       "      <th>4200</th>\n",
       "      <td>1.251911e+07</td>\n",
       "      <td>395627.223910</td>\n",
       "      <td>14659.645993</td>\n",
       "      <td>11416.047823</td>\n",
       "      <td>8370.986124</td>\n",
       "      <td>6266.263069</td>\n",
       "      <td>4490.677804</td>\n",
       "    </tr>\n",
       "    <tr>\n",
       "      <th>4400</th>\n",
       "      <td>1.311492e+07</td>\n",
       "      <td>414456.513460</td>\n",
       "      <td>15357.846698</td>\n",
       "      <td>11960.664683</td>\n",
       "      <td>8769.446951</td>\n",
       "      <td>6564.993180</td>\n",
       "      <td>4704.451350</td>\n",
       "    </tr>\n",
       "    <tr>\n",
       "      <th>4600</th>\n",
       "      <td>1.371240e+07</td>\n",
       "      <td>433283.146193</td>\n",
       "      <td>16055.876529</td>\n",
       "      <td>12504.445450</td>\n",
       "      <td>9168.128464</td>\n",
       "      <td>6863.146594</td>\n",
       "      <td>4917.434997</td>\n",
       "    </tr>\n",
       "    <tr>\n",
       "      <th>4800</th>\n",
       "      <td>1.430859e+07</td>\n",
       "      <td>452175.827723</td>\n",
       "      <td>16754.442205</td>\n",
       "      <td>13048.313799</td>\n",
       "      <td>9567.107219</td>\n",
       "      <td>7160.808440</td>\n",
       "      <td>5131.162781</td>\n",
       "    </tr>\n",
       "    <tr>\n",
       "      <th>5000</th>\n",
       "      <td>1.490478e+07</td>\n",
       "      <td>471015.884540</td>\n",
       "      <td>17452.272565</td>\n",
       "      <td>13592.269333</td>\n",
       "      <td>9965.459987</td>\n",
       "      <td>7459.052117</td>\n",
       "      <td>5345.328433</td>\n",
       "    </tr>\n",
       "    <tr>\n",
       "      <th>5200</th>\n",
       "      <td>1.550097e+07</td>\n",
       "      <td>489857.119783</td>\n",
       "      <td>18149.805572</td>\n",
       "      <td>14135.553101</td>\n",
       "      <td>10363.726253</td>\n",
       "      <td>7757.936787</td>\n",
       "      <td>5559.368340</td>\n",
       "    </tr>\n",
       "    <tr>\n",
       "      <th>5400</th>\n",
       "      <td>1.609715e+07</td>\n",
       "      <td>508697.535462</td>\n",
       "      <td>18847.884619</td>\n",
       "      <td>14679.695931</td>\n",
       "      <td>10762.181247</td>\n",
       "      <td>8056.458014</td>\n",
       "      <td>5772.100603</td>\n",
       "    </tr>\n",
       "    <tr>\n",
       "      <th>5600</th>\n",
       "      <td>1.669333e+07</td>\n",
       "      <td>527537.319687</td>\n",
       "      <td>19545.734648</td>\n",
       "      <td>15222.438811</td>\n",
       "      <td>11160.916334</td>\n",
       "      <td>8354.638795</td>\n",
       "      <td>5986.968231</td>\n",
       "    </tr>\n",
       "    <tr>\n",
       "      <th>5800</th>\n",
       "      <td>1.728950e+07</td>\n",
       "      <td>546377.352677</td>\n",
       "      <td>20243.844315</td>\n",
       "      <td>15766.929395</td>\n",
       "      <td>11559.016139</td>\n",
       "      <td>8653.103529</td>\n",
       "      <td>6200.245631</td>\n",
       "    </tr>\n",
       "  </tbody>\n",
       "</table>\n",
       "</div>"
      ],
      "text/plain": [
       "               SRB            LH2           Arc           PPT           Ion  \\\n",
       "1600  4.769493e+06  150723.927533   5585.461203   4349.466264   3189.588726   \n",
       "1800  5.365598e+06  169561.934663   6283.041050   4893.395679   3587.934720   \n",
       "2000  5.961604e+06  188396.574534   6980.897941   5437.339782   3986.436053   \n",
       "2200  6.557456e+06  207225.794966   7679.287212   5980.709753   4385.448353   \n",
       "2400  7.154296e+06  226087.701737   8376.842168   6524.143471   4784.086354   \n",
       "2600  7.750483e+06  244928.452433   9075.159853   7068.115722   5181.715584   \n",
       "2800  8.346665e+06  263769.058193   9773.608559   7612.011625   5580.642882   \n",
       "3000  8.942834e+06  282609.182237  10470.633329   8154.825285   5979.733789   \n",
       "3200  9.538985e+06  301448.541337  11168.815311   8698.525530   6378.534215   \n",
       "3400  1.013511e+07  320286.800254  11867.282199   9242.891782   6776.017277   \n",
       "3600  1.073120e+07  339124.807426  12565.754061   9786.267877   7175.291967   \n",
       "3800  1.132724e+07  357961.169834  13264.155799  10330.215917   7574.426641   \n",
       "4000  1.192321e+07  376794.948289  13962.374381  10872.668691   7972.807190   \n",
       "4200  1.251911e+07  395627.223910  14659.645993  11416.047823   8370.986124   \n",
       "4400  1.311492e+07  414456.513460  15357.846698  11960.664683   8769.446951   \n",
       "4600  1.371240e+07  433283.146193  16055.876529  12504.445450   9168.128464   \n",
       "4800  1.430859e+07  452175.827723  16754.442205  13048.313799   9567.107219   \n",
       "5000  1.490478e+07  471015.884540  17452.272565  13592.269333   9965.459987   \n",
       "5200  1.550097e+07  489857.119783  18149.805572  14135.553101  10363.726253   \n",
       "5400  1.609715e+07  508697.535462  18847.884619  14679.695931  10762.181247   \n",
       "5600  1.669333e+07  527537.319687  19545.734648  15222.438811  11160.916334   \n",
       "5800  1.728950e+07  546377.352677  20243.844315  15766.929395  11559.016139   \n",
       "\n",
       "             Hall         Sail  \n",
       "1600  2387.776042  1710.755452  \n",
       "1800  2685.769208  1924.893798  \n",
       "2000  2984.257114  2138.005182  \n",
       "2200  3282.820951  2352.138711  \n",
       "2400  3581.007982  2565.218718  \n",
       "2600  3879.159526  2779.636631  \n",
       "2800  4177.735866  2993.287549  \n",
       "3000  4475.771018  3207.523550  \n",
       "3200  4774.442313  3421.749812  \n",
       "3400  5072.199726  3635.643297  \n",
       "3600  5371.122709  3848.598147  \n",
       "3800  5669.918784  4062.305880  \n",
       "4000  5967.916276  4276.493779  \n",
       "4200  6266.263069  4490.677804  \n",
       "4400  6564.993180  4704.451350  \n",
       "4600  6863.146594  4917.434997  \n",
       "4800  7160.808440  5131.162781  \n",
       "5000  7459.052117  5345.328433  \n",
       "5200  7757.936787  5559.368340  \n",
       "5400  8056.458014  5772.100603  \n",
       "5600  8354.638795  5986.968231  \n",
       "5800  8653.103529  6200.245631  "
      ]
     },
     "execution_count": 225,
     "metadata": {},
     "output_type": "execute_result"
    }
   ],
   "source": [
    "finalFrame = SweepFrame()\n",
    "\n",
    "for name in names:\n",
    "    \n",
    "    series = frame[name]\n",
    "    temp = SweepSeries()\n",
    "    dryMasses = series.index.tolist()\n",
    "    fuelMasses = series.values.tolist()\n",
    "    \n",
    "    for i in range(0, len(dryMasses)-1):\n",
    "        temp[dryMasses[i]] = dryMasses[i] + fuelMasses[i]\n",
    "        \n",
    "    finalFrame[name] = temp\n",
    "        \n",
    "finalFrame"
   ]
  },
  {
   "cell_type": "code",
   "execution_count": 226,
   "metadata": {},
   "outputs": [
    {
     "data": {
      "image/png": "[encoded data removed]",
      "text/plain": [
       "<matplotlib.figure.Figure at 0x236b93740f0>"
      ]
     },
     "metadata": {},
     "output_type": "display_data"
    }
   ],
   "source": [
    "for i in range(0, len(engines)-1):\n",
    "    label = names[i]\n",
    "    plot(finalFrame[label], label=label)\n",
    "\n",
    "decorate(title='Total Mass to Fuel Ratio for Various Rockets',\n",
    "         xlabel='Mass of Rocket (kg)',\n",
    "         ylabel='Total Mass (kg)',\n",
    "         legend=True)"
   ]
  },
  {
   "cell_type": "markdown",
   "metadata": {},
   "source": [
    "*** Hmm okay this is really interesting.  What are your thoughts about what we do next?  Check out the main graphic on this wikipedia page for the graph I was actually thinking of...***\n",
    "\n",
    "https://en.wikipedia.org/wiki/Tsiolkovsky_rocket_equation\n",
    "\n",
    "*** FYI, Connor Novak liked the graph before this one, he called it a good punchline graph ***\n"
   ]
  },
  {
   "cell_type": "code",
   "execution_count": 230,
   "metadata": {},
   "outputs": [
    {
     "data": {
      "image/png": "[encoded data removed]",
      "text/plain": [
       "<matplotlib.figure.Figure at 0x236b929fb00>"
      ]
     },
     "metadata": {},
     "output_type": "display_data"
    }
   ],
   "source": [
    "vExhaust = 0     # Engine exhaust velocity\n",
    "mDry = 1600      # Dry mass of the spacecraft (only rocket + payload)\n",
    "mFuel = 0    # Mass of spacecraft fuel\n",
    "DV = 0\n",
    "\n",
    "rocket = System(vExhaust=vExhaust, mDry=mDry, mFuel=mFuel)\n",
    "\n",
    "rocket.vExhaust = LH2\n",
    "initGuess = 100             #initGuesses[engines.index(LH2)]\n",
    "\n",
    "sweep = SweepSeries()\n",
    "\n",
    "for DV in linrange(1000, 20000, 100):   # Let's sweep 500-2000kg in increments of 100kg\n",
    "    dv = DV\n",
    "    try:\n",
    "        solution = fsolve(error_func, initGuess, xtol=1e-3)\n",
    "    except:\n",
    "        print(\"Math range error at dv \" + str(dv))\n",
    "        \n",
    "    mFuel = solution[0]\n",
    "    #print(mFuel)\n",
    "        \n",
    "    sweep[dv] = (mDry + mFuel)/mDry\n",
    "\n",
    "\n",
    "plot(sweep, color='purple')\n",
    "decorate(title='Efficiency Curve for Liquid Rocket',\n",
    "         xlabel='Delta V (m/s)',\n",
    "         ylabel='Mass Ratio, (m0/mf)',\n",
    "         legend=False)"
   ]
  },
  {
   "cell_type": "code",
   "execution_count": 231,
   "metadata": {},
   "outputs": [
    {
     "name": "stderr",
     "output_type": "stream",
     "text": [
      "C:\\ProgramData\\Miniconda3\\lib\\site-packages\\scipy\\optimize\\minpack.py:161: RuntimeWarning: The iteration is not making good progress, as measured by the \n",
      "  improvement from the last ten iterations.\n",
      "  warnings.warn(msg, RuntimeWarning)\n"
     ]
    }
   ],
   "source": [
    "vExhaust = 0     # Engine exhaust velocity\n",
    "mDry = 1600      # Dry mass of the spacecraft (only rocket + payload)\n",
    "mFuel = 0    # Mass of spacecraft fuel\n",
    "DV = 0\n",
    "\n",
    "rocket = System(vExhaust=vExhaust, mDry=mDry, mFuel=mFuel)\n",
    "\n",
    "data = SweepFrame()\n",
    "\n",
    "for i in range(0, len(engines)):\n",
    "\n",
    "    rocket.vExhaust = engines[i]\n",
    "    initGuess = initGuesses[i]/4           #initGuesses[engines.index(LH2)]\n",
    "\n",
    "    sweep = SweepSeries()\n",
    "\n",
    "    for DV in linrange(700, 5000, 100):   # Let's sweep 500-2000kg in increments of 100kg\n",
    "        dv = DV\n",
    "        try:\n",
    "            solution = fsolve(error_func, initGuess, xtol=1e-3)\n",
    "        except:\n",
    "            print(\"Math range error at dv \" + str(dv))\n",
    "\n",
    "        mFuel = solution[0]\n",
    "\n",
    "        sweep[dv] = (mDry + mFuel)/mDry\n",
    "        \n",
    "    data[names[i]] = sweep"
   ]
  },
  {
   "cell_type": "code",
   "execution_count": null,
   "metadata": {
    "collapsed": true
   },
   "outputs": [],
   "source": []
  },
  {
   "cell_type": "code",
   "execution_count": 236,
   "metadata": {},
   "outputs": [
    {
     "data": {
      "image/png": "[encoded data removed]",
      "text/plain": [
       "<matplotlib.figure.Figure at 0x236b99d4978>"
      ]
     },
     "metadata": {},
     "output_type": "display_data"
    }
   ],
   "source": [
    "for i in range(1, len(engines)):\n",
    "    label = names[i]\n",
    "    plot(data[label], label=label)\n",
    "\n",
    "decorate(title='Efficiency Curve for Various Engines',\n",
    "         xlabel='Delta V (m/s)',\n",
    "         ylabel='Mass Ratio, m0/mf',\n",
    "         legend=True)"
   ]
  },
  {
   "cell_type": "code",
   "execution_count": 210,
   "metadata": {},
   "outputs": [
    {
     "data": {
      "image/png": "[encoded data removed]",
      "text/plain": [
       "<matplotlib.figure.Figure at 0x236b7a58cf8>"
      ]
     },
     "metadata": {},
     "output_type": "display_data"
    }
   ],
   "source": [
    "for i in range(1, len(engines)):\n",
    "    label = names[i]\n",
    "    plot(data[label], label=label)\n",
    "\n",
    "decorate(title='Efficiency Curve for Various Engines',\n",
    "         xlabel='Delta V (m/s)',\n",
    "         ylabel='Mass Ratio, m0/mf (kg)',\n",
    "         legend=True)"
   ]
  },
  {
   "cell_type": "code",
   "execution_count": null,
   "metadata": {
    "collapsed": true
   },
   "outputs": [],
   "source": []
  }
 ],
 "metadata": {
  "kernelspec": {
   "display_name": "Python 3",
   "language": "python",
   "name": "python3"
  },
  "language_info": {
   "codemirror_mode": {
    "name": "ipython",
    "version": 3
   },
   "file_extension": ".py",
   "mimetype": "text/x-python",
   "name": "python",
   "nbconvert_exporter": "python",
   "pygments_lexer": "ipython3",
   "version": "3.6.1"
  }
 },
 "nbformat": 4,
 "nbformat_minor": 2
}
