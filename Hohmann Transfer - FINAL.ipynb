{
 "cells": [
  {
   "cell_type": "code",
   "execution_count": 134,
   "metadata": {
    "collapsed": true
   },
   "outputs": [],
   "source": [
    "%matplotlib inline\n",
    "import math\n",
    "from modsim import *"
   ]
  },
  {
   "cell_type": "markdown",
   "metadata": {},
   "source": [
    "For this model we're assuming that our mass begins in a geostationary orbit (perhaps a docking orbit for a cargo mission) and will be going to the moon. <br>\n",
    "<br>\n",
    "r0 = 42,164 km <br>\n",
    "rf = 384,400 km <br>\n",
    "<br>\n",
    "To figure out what the necessary delta-v is we look at a Hohmann transfer.  Hohmann transfers are the most efficient means of switching circular orbits and involve two burns that sum to a net delta-v.  These are well-known, used, and documented calculations and explanations can be found readily online.  For this lab I used an online calculator found at the link below: <br>\n",
    "<br>\n",
    "https://instacalc.com/42836 <br>\n",
    "<br>\n",
    "According to this calculator the delta-v for the first maneuver is 956.61 m/s and for the second maneuver is 535.22 m/s, resulting in a net delta-v of 1491.83 m/s.  For this model, <b>1492 m/s is the target delta-v.</b>"
   ]
  },
  {
   "cell_type": "code",
   "execution_count": 125,
   "metadata": {
    "collapsed": true
   },
   "outputs": [],
   "source": [
    "r0 = 42164000    # in meters\n",
    "rf = 384400000   # in meters\n",
    "dv = 1492        # in meters/sec"
   ]
  },
  {
   "cell_type": "markdown",
   "metadata": {},
   "source": [
    "Let's create a rocket object"
   ]
  },
  {
   "cell_type": "code",
   "execution_count": 126,
   "metadata": {
    "collapsed": true
   },
   "outputs": [],
   "source": [
    "vExhaust = 0     # Engine exhaust velocity\n",
    "mDry = 1000      # Dry mass of the spacecraft (only rocket + payload)\n",
    "mFuel = 0    # Mass of spacecraft fuel\n",
    "\n",
    "rocket = System(vExhaust=vExhaust, mDry=mDry, mFuel=mFuel)"
   ]
  },
  {
   "cell_type": "markdown",
   "metadata": {},
   "source": [
    "Let's initialize the exhaust velocities for a couple kinds of engines that our spacecraft could have. <br>\n",
    "https://en.wikipedia.org/wiki/Specific_impulse#Examples <br>\n",
    "https://en.wikipedia.org/wiki/Spacecraft_propulsion#Table_of_methods"
   ]
  },
  {
   "cell_type": "code",
   "execution_count": 142,
   "metadata": {},
   "outputs": [],
   "source": [
    "SRB = 2500     # Space shuttle solid rocket booster\n",
    "LH2 = 4400     # Liquid hydrogen rocket\n",
    "Arc = 16000    # Arcjet rocket\n",
    "PPT = 20000    # Pulsed plasma thruster\n",
    "Ion = 29000    # Electrostatic ion thruster\n",
    "Hall = 50000   # Electric Hall-effect thruster\n",
    "Sail = 299792  # Solar sail (effectively no fuel)\n",
    "\n",
    "engines = [SRB, LH2, Arc, PPT, Ion, Hall, Sail]    # Array of engines\n",
    "initGuesses = [800, 400, 90, 70, 50, 20, 0]        # Array of initial guesses for each engine\n",
    "names = [\"SRB\", \"LH2\", \"Arc\", \"PPT\", \"Ion\", \"Hall\", \"Sail\"]    # Array of engines"
   ]
  },
  {
   "cell_type": "markdown",
   "metadata": {},
   "source": [
    "The below function solves for delta-v via a straight rocket equation calculation determined by a ratio of dry to wet masses given an exhaust velocity."
   ]
  },
  {
   "cell_type": "code",
   "execution_count": 128,
   "metadata": {
    "collapsed": true
   },
   "outputs": [],
   "source": [
    "def solveV(r):\n",
    "    \n",
    "    # Calculate the change in velocity via the base rocket equation\n",
    "    dv = r.vExhaust * math.log((r.mDry + r.mFuel) / r.mDry)\n",
    "    \n",
    "    return dv"
   ]
  },
  {
   "cell_type": "markdown",
   "metadata": {},
   "source": [
    "The below function takes in a value for the mass of the rocket's fuel, solves for the dv achieved by that mass of fuel, and returns the difference between the achieved delta-v and the desired delta-v."
   ]
  },
  {
   "cell_type": "code",
   "execution_count": 129,
   "metadata": {},
   "outputs": [],
   "source": [
    "def error_func(mFuel):\n",
    "    r = rocket\n",
    "    r.mFuel = mFuel\n",
    "    vf = solveV(r)\n",
    "\n",
    "    return vf - dv    # Where dv is a reference to the target velocity"
   ]
  },
  {
   "cell_type": "markdown",
   "metadata": {},
   "source": [
    "Let's pick an engine for the rocket and see what we can do with fsolve:"
   ]
  },
  {
   "cell_type": "code",
   "execution_count": 130,
   "metadata": {},
   "outputs": [
    {
     "data": {
      "text/plain": [
       "404.67308281054034"
      ]
     },
     "execution_count": 130,
     "metadata": {},
     "output_type": "execute_result"
    }
   ],
   "source": [
    "rocket.vExhaust = LH2\n",
    "\n",
    "try:\n",
    "    solution = fsolve(error_func, 400, xtol=1e-3)\n",
    "except:\n",
    "    print(\"Math range error\")\n",
    "    \n",
    "solution[0]\n"
   ]
  },
  {
   "cell_type": "markdown",
   "metadata": {},
   "source": [
    "By direct back-solving, the entire initial mass is 1404.7121, which means the fuel mass is 404.7121 so we're pretty close.<br>\n",
    "http://www.quantumg.net/rocketeq.html\n",
    "<br><br>\n",
    "Cool, now let's try sweeping the engines:"
   ]
  },
  {
   "cell_type": "code",
   "execution_count": 131,
   "metadata": {},
   "outputs": [
    {
     "name": "stdout",
     "output_type": "stream",
     "text": [
      "Engine 0 requires 816.436672487 kg of fuel\n",
      "Engine 1 requires 404.673082811 kg of fuel\n",
      "Engine 2 requires 98.8111091336 kg of fuel\n",
      "Engine 3 requires 77.5253479439 kg of fuel\n",
      "Engine 4 requires 53.0359786928 kg of fuel\n",
      "Engine 5 requires 30.6118325058 kg of fuel\n"
     ]
    }
   ],
   "source": [
    "for i in range(0, len(engines)-1):\n",
    "\n",
    "    rocket.vExhaust = engines[i]\n",
    "    initGuess = initGuesses[i]\n",
    "\n",
    "    try:\n",
    "        solution = fsolve(error_func, initGuess, xtol=1e-3)\n",
    "    except:\n",
    "        print(\"Math range error at index \" + str(i))\n",
    "        \n",
    "    print(\"Engine \" + str(i) + \" requires \" + str(solution[0]) + \" kg of fuel\")"
   ]
  },
  {
   "cell_type": "markdown",
   "metadata": {},
   "source": [
    "*** Turns out we get a lot of math errors because of fsolve *** <br><br>\n",
    "But otherwise, great, glad it works! <br><br>Next we need to pick a single thruster and vary the dry mass of our spacecraft."
   ]
  },
  {
   "cell_type": "code",
   "execution_count": 140,
   "metadata": {},
   "outputs": [
    {
     "name": "stdout",
     "output_type": "stream",
     "text": [
      "500     202.194998\n",
      "600     242.135314\n",
      "700     283.024253\n",
      "800     323.410432\n",
      "900     363.089151\n",
      "1000    404.347826\n",
      "1100    444.771133\n",
      "1200    484.582565\n",
      "1300    525.361066\n",
      "1400    565.664022\n",
      "1500    606.445925\n",
      "1600    646.263783\n",
      "1700    686.585916\n",
      "1800    727.474485\n",
      "1900    767.082882\n",
      "2000    807.303732\n",
      "dtype: float64\n"
     ]
    }
   ],
   "source": [
    "rocket.vExhaust = LH2\n",
    "initGuess = 100             #initGuesses[engines.index(LH2)]\n",
    "\n",
    "sweep = SweepSeries()\n",
    "\n",
    "for mDry in linrange(500, 2000, 100):   # Let's sweep 500-2000kg in increments of 100kg\n",
    "    rocket.mDry = mDry \n",
    "    try:\n",
    "        solution = fsolve(error_func, initGuess, xtol=1e-3)\n",
    "    except:\n",
    "        print(\"Math range error at index \" + str(i))\n",
    "        \n",
    "    sweep[mDry] = solution[0]\n",
    "    \n",
    "print(sweep)"
   ]
  },
  {
   "cell_type": "markdown",
   "metadata": {},
   "source": [
    "Now can we plot the results?"
   ]
  },
  {
   "cell_type": "code",
   "execution_count": 141,
   "metadata": {},
   "outputs": [
    {
     "data": {
      "image/png": "[encoded data removed]",
      "text/plain": [
       "<matplotlib.figure.Figure at 0x236b4583cf8>"
      ]
     },
     "metadata": {},
     "output_type": "display_data"
    }
   ],
   "source": [
    "plot(sweep, color='purple')\n",
    "decorate(title='Mass Ratio for Liquid Rocket',\n",
    "         xlabel='Mass of Rocket (kg)',\n",
    "         ylabel='Mass of Fuel (kg)',\n",
    "         legend=False)"
   ]
  },
  {
   "cell_type": "markdown",
   "metadata": {},
   "source": [
    "***  Hmm.  Let's think about if this is the right relationship or not  *** <br><br>\n",
    "Next let's sweep this range for every engine and see what happens"
   ]
  },
  {
   "cell_type": "code",
   "execution_count": 145,
   "metadata": {},
   "outputs": [
    {
     "data": {
      "text/html": [
       "<div>\n",
       "<style>\n",
       "    .dataframe thead tr:only-child th {\n",
       "        text-align: right;\n",
       "    }\n",
       "\n",
       "    .dataframe thead th {\n",
       "        text-align: left;\n",
       "    }\n",
       "\n",
       "    .dataframe tbody tr th {\n",
       "        vertical-align: top;\n",
       "    }\n",
       "</style>\n",
       "<table border=\"1\" class=\"dataframe\">\n",
       "  <thead>\n",
       "    <tr style=\"text-align: right;\">\n",
       "      <th></th>\n",
       "      <th>SRB</th>\n",
       "      <th>LH2</th>\n",
       "      <th>Arc</th>\n",
       "      <th>PPT</th>\n",
       "      <th>Ion</th>\n",
       "      <th>Hall</th>\n",
       "    </tr>\n",
       "  </thead>\n",
       "  <tbody>\n",
       "    <tr>\n",
       "      <th>500</th>\n",
       "      <td>408.305938</td>\n",
       "      <td>202.284767</td>\n",
       "      <td>49.049383</td>\n",
       "      <td>39.868556</td>\n",
       "      <td>26.681032</td>\n",
       "      <td>15.534059</td>\n",
       "    </tr>\n",
       "    <tr>\n",
       "      <th>600</th>\n",
       "      <td>490.716154</td>\n",
       "      <td>242.631677</td>\n",
       "      <td>59.193813</td>\n",
       "      <td>46.821829</td>\n",
       "      <td>32.479762</td>\n",
       "      <td>18.634224</td>\n",
       "    </tr>\n",
       "    <tr>\n",
       "      <th>700</th>\n",
       "      <td>571.941480</td>\n",
       "      <td>282.395336</td>\n",
       "      <td>69.835018</td>\n",
       "      <td>54.524241</td>\n",
       "      <td>37.428319</td>\n",
       "      <td>21.712854</td>\n",
       "    </tr>\n",
       "    <tr>\n",
       "      <th>800</th>\n",
       "      <td>653.958109</td>\n",
       "      <td>323.659271</td>\n",
       "      <td>78.935175</td>\n",
       "      <td>62.097589</td>\n",
       "      <td>42.302041</td>\n",
       "      <td>24.776947</td>\n",
       "    </tr>\n",
       "    <tr>\n",
       "      <th>900</th>\n",
       "      <td>735.329555</td>\n",
       "      <td>363.475726</td>\n",
       "      <td>88.772964</td>\n",
       "      <td>70.940808</td>\n",
       "      <td>48.363259</td>\n",
       "      <td>27.948419</td>\n",
       "    </tr>\n",
       "    <tr>\n",
       "      <th>1000</th>\n",
       "      <td>816.421623</td>\n",
       "      <td>404.121816</td>\n",
       "      <td>98.215871</td>\n",
       "      <td>78.618716</td>\n",
       "      <td>53.450200</td>\n",
       "      <td>30.877144</td>\n",
       "    </tr>\n",
       "    <tr>\n",
       "      <th>1100</th>\n",
       "      <td>898.681748</td>\n",
       "      <td>444.246951</td>\n",
       "      <td>108.285618</td>\n",
       "      <td>85.415536</td>\n",
       "      <td>58.526304</td>\n",
       "      <td>33.917864</td>\n",
       "    </tr>\n",
       "    <tr>\n",
       "      <th>1200</th>\n",
       "      <td>979.693424</td>\n",
       "      <td>484.671315</td>\n",
       "      <td>117.333046</td>\n",
       "      <td>93.902771</td>\n",
       "      <td>63.685436</td>\n",
       "      <td>36.954241</td>\n",
       "    </tr>\n",
       "    <tr>\n",
       "      <th>1300</th>\n",
       "      <td>1061.338641</td>\n",
       "      <td>525.774723</td>\n",
       "      <td>127.780211</td>\n",
       "      <td>101.439718</td>\n",
       "      <td>69.193911</td>\n",
       "      <td>39.987202</td>\n",
       "    </tr>\n",
       "    <tr>\n",
       "      <th>1400</th>\n",
       "      <td>1143.683433</td>\n",
       "      <td>565.346988</td>\n",
       "      <td>137.113040</td>\n",
       "      <td>109.637588</td>\n",
       "      <td>74.693945</td>\n",
       "      <td>42.068779</td>\n",
       "    </tr>\n",
       "    <tr>\n",
       "      <th>1500</th>\n",
       "      <td>1224.566949</td>\n",
       "      <td>606.450561</td>\n",
       "      <td>147.177545</td>\n",
       "      <td>116.272162</td>\n",
       "      <td>79.306614</td>\n",
       "      <td>45.160382</td>\n",
       "    </tr>\n",
       "    <tr>\n",
       "      <th>1600</th>\n",
       "      <td>1306.696090</td>\n",
       "      <td>646.856496</td>\n",
       "      <td>156.427966</td>\n",
       "      <td>124.271645</td>\n",
       "      <td>84.790434</td>\n",
       "      <td>48.467502</td>\n",
       "    </tr>\n",
       "    <tr>\n",
       "      <th>1700</th>\n",
       "      <td>1387.850888</td>\n",
       "      <td>686.614771</td>\n",
       "      <td>166.701786</td>\n",
       "      <td>132.816702</td>\n",
       "      <td>90.261404</td>\n",
       "      <td>51.332721</td>\n",
       "    </tr>\n",
       "    <tr>\n",
       "      <th>1800</th>\n",
       "      <td>1469.035135</td>\n",
       "      <td>727.651654</td>\n",
       "      <td>176.858383</td>\n",
       "      <td>139.639365</td>\n",
       "      <td>95.728607</td>\n",
       "      <td>55.372936</td>\n",
       "    </tr>\n",
       "    <tr>\n",
       "      <th>1900</th>\n",
       "      <td>1551.178974</td>\n",
       "      <td>767.713423</td>\n",
       "      <td>186.334221</td>\n",
       "      <td>147.615516</td>\n",
       "      <td>100.454171</td>\n",
       "      <td>58.141825</td>\n",
       "    </tr>\n",
       "    <tr>\n",
       "      <th>2000</th>\n",
       "      <td>1632.688601</td>\n",
       "      <td>807.897617</td>\n",
       "      <td>195.839059</td>\n",
       "      <td>155.853866</td>\n",
       "      <td>106.477495</td>\n",
       "      <td>61.163139</td>\n",
       "    </tr>\n",
       "  </tbody>\n",
       "</table>\n",
       "</div>"
      ],
      "text/plain": [
       "              SRB         LH2         Arc         PPT         Ion       Hall\n",
       "500    408.305938  202.284767   49.049383   39.868556   26.681032  15.534059\n",
       "600    490.716154  242.631677   59.193813   46.821829   32.479762  18.634224\n",
       "700    571.941480  282.395336   69.835018   54.524241   37.428319  21.712854\n",
       "800    653.958109  323.659271   78.935175   62.097589   42.302041  24.776947\n",
       "900    735.329555  363.475726   88.772964   70.940808   48.363259  27.948419\n",
       "1000   816.421623  404.121816   98.215871   78.618716   53.450200  30.877144\n",
       "1100   898.681748  444.246951  108.285618   85.415536   58.526304  33.917864\n",
       "1200   979.693424  484.671315  117.333046   93.902771   63.685436  36.954241\n",
       "1300  1061.338641  525.774723  127.780211  101.439718   69.193911  39.987202\n",
       "1400  1143.683433  565.346988  137.113040  109.637588   74.693945  42.068779\n",
       "1500  1224.566949  606.450561  147.177545  116.272162   79.306614  45.160382\n",
       "1600  1306.696090  646.856496  156.427966  124.271645   84.790434  48.467502\n",
       "1700  1387.850888  686.614771  166.701786  132.816702   90.261404  51.332721\n",
       "1800  1469.035135  727.651654  176.858383  139.639365   95.728607  55.372936\n",
       "1900  1551.178974  767.713423  186.334221  147.615516  100.454171  58.141825\n",
       "2000  1632.688601  807.897617  195.839059  155.853866  106.477495  61.163139"
      ]
     },
     "execution_count": 145,
     "metadata": {},
     "output_type": "execute_result"
    }
   ],
   "source": [
    "frame = SweepFrame()\n",
    "sweep = SweepSeries()\n",
    "\n",
    "for i in range(0, len(engines)-1):\n",
    "\n",
    "    rocket.vExhaust = engines[i]\n",
    "    initGuess = initGuesses[i] * 0.1\n",
    "\n",
    "    for mDry in linrange(500, 2000, 100):   # Let's sweep 500-2000kg in increments of 100kg\n",
    "        rocket.mDry = mDry \n",
    "        try:\n",
    "            solution = fsolve(error_func, initGuess, xtol=1e-2)\n",
    "        except:\n",
    "            print(\"Math range error at index \" + str(i))\n",
    "\n",
    "        sweep[mDry] = solution[0]\n",
    "    \n",
    "    frame[names[i]] = sweep\n",
    "        \n",
    "frame"
   ]
  },
  {
   "cell_type": "code",
   "execution_count": 146,
   "metadata": {},
   "outputs": [
    {
     "data": {
      "image/png": "[encoded data removed]",
      "text/plain": [
       "<matplotlib.figure.Figure at 0x236b45904e0>"
      ]
     },
     "metadata": {},
     "output_type": "display_data"
    }
   ],
   "source": [
    "for i in range(0, len(engines)-1):\n",
    "    label = names[i]\n",
    "    plot(frame[label], label=label)\n",
    "\n",
    "decorate(title='Mass Ratio for Various Rockets',\n",
    "         xlabel='Mass of Rocket (kg)',\n",
    "         ylabel='Mass of Fuel (kg)',\n",
    "         legend=False)"
   ]
  },
  {
   "cell_type": "markdown",
   "metadata": {},
   "source": [
    "*** Okay, now it's really time to check if linear is the right relationship or not *** <br><br>\n",
    "But right now it's 2 in the morning and I'm done for the night (:"
   ]
  },
  {
   "cell_type": "code",
   "execution_count": null,
   "metadata": {
    "collapsed": true
   },
   "outputs": [],
   "source": []
  }
 ],
 "metadata": {
  "kernelspec": {
   "display_name": "Python 3",
   "language": "python",
   "name": "python3"
  },
  "language_info": {
   "codemirror_mode": {
    "name": "ipython",
    "version": 3
   },
   "file_extension": ".py",
   "mimetype": "text/x-python",
   "name": "python",
   "nbconvert_exporter": "python",
   "pygments_lexer": "ipython3",
   "version": "3.6.1"
  }
 },
 "nbformat": 4,
 "nbformat_minor": 2
}
